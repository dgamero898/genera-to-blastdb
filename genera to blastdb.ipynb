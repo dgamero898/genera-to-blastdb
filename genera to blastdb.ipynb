{
 "cells": [
  {
   "cell_type": "code",
   "execution_count": null,
   "metadata": {},
   "outputs": [],
   "source": [
    "import subprocess"
   ]
  },
  {
   "cell_type": "code",
   "execution_count": null,
   "metadata": {},
   "outputs": [],
   "source": [
    "genus_list_file = ''\n",
    "blastdb = ''\n",
    "\n",
    "genera = []\n",
    "with open(genus_list_file,'r') as f:\n",
    "    for line in f:\n",
    "        genera.append(line.strip('\\n'))\n",
    "\n",
    "genus_txids = []\n",
    "for genus in genera:\n",
    "    cline = subprocess.run(['get_species_taxids.sh','-n',genus],stdout=subprocess.PIPE,text=True)\n",
    "    txid = cline.stdout.split(' \\n ')[0].split(' : ')[1]\n",
    "    genus_txids.append(txid)     \n",
    "    \n",
    "spp_txids = []\n",
    "for txid in genus_txids:\n",
    "    cline = subprocess.run(['get_species_taxids.sh','-t',txid],stdout=subprocess.PIPE,text=True)\n",
    "    spp_txids.append(cline.stdout.split('\\n'))\n",
    "    \n",
    "with open(genus_list_file+'_spp_txids','w') as f:\n",
    "    for txid_list in spp_txids:\n",
    "        for txid in txid_list:\n",
    "            f.write(txid+'\\n')\n",
    "            \n",
    "cline = subprocess.run(['blastdbcmd','-db',blastdb,'-taxidlist',genus_list_file+'_spp_txids','-out','16S_ribosomal_RNA_'+genus_list_file.split('_')[2]+'.fasta'])"
   ]
  }
 ],
 "metadata": {
  "kernelspec": {
   "display_name": "Python 3",
   "language": "python",
   "name": "python3"
  },
  "language_info": {
   "codemirror_mode": {
    "name": "ipython",
    "version": 3
   },
   "file_extension": ".py",
   "mimetype": "text/x-python",
   "name": "python",
   "nbconvert_exporter": "python",
   "pygments_lexer": "ipython3",
   "version": "3.7.4"
  }
 },
 "nbformat": 4,
 "nbformat_minor": 4
}
